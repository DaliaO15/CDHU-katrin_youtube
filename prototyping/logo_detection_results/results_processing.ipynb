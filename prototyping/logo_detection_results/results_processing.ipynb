{
 "cells": [
  {
   "cell_type": "markdown",
   "id": "a0e63a0c",
   "metadata": {},
   "source": [
    "#### Notes\n",
    "\n",
    "This code takes a main folder with subsubsolders where the labels per frame are stored. The folder tree looks, for example, like:\n",
    "\n",
    "Sweden:\\\n",
    "-Channel_1\\\n",
    "--Video_1\\\n",
    "---labels\\\n",
    "----label_1.txt\\\n",
    "----label_2.txt\\\n",
    "----...\\\n",
    "--Video_2\\\n",
    "---labels\\\n",
    "----label_1.txt\\\n",
    "...\n",
    "\n",
    "* Some of the labels directories are empty "
   ]
  },
  {
   "cell_type": "code",
   "execution_count": 2,
   "id": "f155dbdf",
   "metadata": {},
   "outputs": [],
   "source": [
    "import os\n",
    "import pandas as pd\n",
    "#import parquet \n",
    "from collections import defaultdict\n",
    "import os.path\n",
    "from fastparquet import write"
   ]
  },
  {
   "cell_type": "code",
   "execution_count": 86,
   "id": "dcacad6e",
   "metadata": {},
   "outputs": [],
   "source": [
    "def result_processing(path_to_results_dir:str, path_to_res_file:str, country:str):\n",
    "    ### This will return a parque file \n",
    "    \n",
    "    # File to store the results\n",
    "    file_path = path_to_res_file+f'results_{country}.parquet'\n",
    "    \n",
    "    # Channel names \n",
    "    channel_dirs = [filename for filename in os.listdir(path_to_results_dir) if not filename.startswith('.')]\n",
    "    for channel_d in channel_dirs:\n",
    "        sub_folder_path = os.path.join(path_to_results_dir,channel_d)\n",
    "        # Access the video's frames folder \n",
    "        videos_dir = [filename for filename in os.listdir(sub_folder_path) if not filename.startswith('.')]\n",
    "        for video_d in videos_dir:\n",
    "            video_path = os.path.join(sub_folder_path,video_d)\n",
    "            labels_dir_path = os.path.join(video_path,'labels/')\n",
    "            \n",
    "            if os.listdir(labels_dir_path): # Labels dir is not empty:\n",
    "                \n",
    "                # Access labels information. This are txt files\n",
    "                labels_files = [filename for filename in os.listdir(labels_dir_path) if not filename.startswith('.')]\n",
    "                for label_f in labels_files:\n",
    "                    \n",
    "                    with open(os.path.join(labels_dir_path,label_f), 'r') as f:\n",
    "                        lines = f.readlines()\n",
    "                        # Write the labels to a data frame\n",
    "                        df = pd.DataFrame([l.split() for l in lines],columns=['class_label',\n",
    "                                'x_center','y_center','width','height','confidence_level'])\n",
    "                        df.insert(0,'Frame', label_f.split('.')[0])\n",
    "                        df.insert(0, 'Video_id', video_d)\n",
    "                        df.insert(0,'Channel', channel_d)\n",
    "       \n",
    "                        # If the file does not exists, create it\n",
    "                        if not os.path.isfile(file_path): \n",
    "                            write(file_path, df)\n",
    "                        else: # Otherwise, write on it\n",
    "                            write(file_path, df, append=True)\n",
    "            else: \n",
    "                pass\n",
    "            \n",
    "    return file_path \n",
    "\n",
    "\n",
    "def transf_parque(parque_file_path:str):\n",
    "    res = pd.read_parquet(parque_file_path, engine='fastparquet')\n",
    "    res\n",
    "    # Converting to CSV\n",
    "    res.to_csv(parque_file_path.split('.par')[0]+'.csv', index = False)"
   ]
  },
  {
   "cell_type": "code",
   "execution_count": 87,
   "id": "2f3ddff7",
   "metadata": {},
   "outputs": [],
   "source": [
    "main_folder = '../../../yolov5/Sweden_analysis_TEST'\n",
    "end_results_folder = '../../data_collection/data/'\n",
    "country = 'sweden'"
   ]
  },
  {
   "cell_type": "code",
   "execution_count": 88,
   "id": "2d63074a",
   "metadata": {},
   "outputs": [],
   "source": [
    "res = result_processing(main_folder, end_results_folder, country)\n",
    "transf_parque(res)"
   ]
  },
  {
   "cell_type": "code",
   "execution_count": null,
   "id": "80802960",
   "metadata": {},
   "outputs": [],
   "source": []
  }
 ],
 "metadata": {
  "kernelspec": {
   "display_name": "yolo5_transf_learn_env",
   "language": "python",
   "name": "yolo5_transf_learn_env"
  },
  "language_info": {
   "codemirror_mode": {
    "name": "ipython",
    "version": 3
   },
   "file_extension": ".py",
   "mimetype": "text/x-python",
   "name": "python",
   "nbconvert_exporter": "python",
   "pygments_lexer": "ipython3",
   "version": "3.9.16"
  }
 },
 "nbformat": 4,
 "nbformat_minor": 5
}
